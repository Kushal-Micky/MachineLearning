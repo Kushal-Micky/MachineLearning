{
 "cells": [
  {
   "cell_type": "markdown",
   "metadata": {},
   "source": [
    "# Deep Learining\n",
    "\n",
    "### **Handwritten Digit Recognition using Neural Networks**  \n",
    "\n",
    "This project implements a **Neural Network from scratch** (without using TensorFlow or PyTorch) to recognize handwritten digits from the **MNIST dataset**. It involves:  \n",
    "\n",
    "- **Building a Multi-Layer Perceptron (MLP)** with forward and backward propagation.  \n",
    "- **Training the model** using gradient descent and backpropagation.  \n",
    "- **Manually loading and preprocessing the MNIST dataset** without external deep learning libraries.  \n",
    "\n",
    "The goal is to gain a deeper understanding of how neural networks work at a fundamental level. 🚀\n"
   ]
  }
 ],
 "metadata": {
  "language_info": {
   "name": "python"
  }
 },
 "nbformat": 4,
 "nbformat_minor": 2
}
