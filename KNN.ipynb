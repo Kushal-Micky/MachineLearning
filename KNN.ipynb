{
 "cells": [
  {
   "cell_type": "markdown",
   "metadata": {},
   "source": [
    "# KNN Algorithm\n",
    "**K-Neareast Neighbour**\n",
    "\n",
    "It is one of the most popular, simplest classification and regression classifiers used. As a classification algorithm KNN operates on the assumption that similar data points are located near eachother and can be grouped in same category based on their proximty."
   ]
  },
  {
   "cell_type": "code",
   "execution_count": null,
   "metadata": {
    "vscode": {
     "languageId": "plaintext"
    }
   },
   "outputs": [],
   "source": []
  },
  {
   "cell_type": "markdown",
   "metadata": {},
   "source": []
  }
 ],
 "metadata": {
  "language_info": {
   "name": "python"
  }
 },
 "nbformat": 4,
 "nbformat_minor": 2
}
